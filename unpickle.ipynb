{
 "cells": [
  {
   "cell_type": "markdown",
   "id": "1a409c3c",
   "metadata": {},
   "source": [
    "## Productionisation (Model Deserialization)"
   ]
  },
  {
   "cell_type": "code",
   "execution_count": 1,
   "id": "7cd924c8",
   "metadata": {},
   "outputs": [],
   "source": [
    "import numpy as np\n",
    "from pickle import load"
   ]
  },
  {
   "cell_type": "code",
   "execution_count": 2,
   "id": "2fa64947",
   "metadata": {},
   "outputs": [],
   "source": [
    "# Loading pretrained classifiers from pickle file\n",
    "\n",
    "scaler = load(open('C:/Users/user/Desktop/Internship Data Science 2023/titanic_survival_prediction/models/standard_scaler.pkl', 'rb'))\n",
    "knn_classifier = load(open('C:/Users/user/Desktop/Internship Data Science 2023/titanic_survival_prediction/models/knn_model.pkl', 'rb'))\n",
    "lr_classifier = load(open('C:/Users/user/Desktop/Internship Data Science 2023/titanic_survival_prediction/models/lr_model.pkl', 'rb'))\n",
    "nb_classifier = load(open('C:/Users/user/Desktop/Internship Data Science 2023/titanic_survival_prediction/models/nb_model.pkl', 'rb'))\n",
    "dt_classifier = load(open('C:/Users/user/Desktop/Internship Data Science 2023/titanic_survival_prediction/models/dt_model.pkl', 'rb'))\n",
    "sv_classifier = load(open('C:/Users/user/Desktop/Internship Data Science 2023/titanic_survival_prediction/models/sv_model.pkl', 'rb'))"
   ]
  },
  {
   "cell_type": "code",
   "execution_count": 3,
   "id": "e469c689",
   "metadata": {},
   "outputs": [
    {
     "name": "stdout",
     "output_type": "stream",
     "text": [
      "Enter the Person Details(in numerical)\n",
      "Enter Age: 32\n",
      "Enter Fare: 7.75\n",
      "Enter 1(if the person belongs to class 1) otherwise 0: 0\n",
      "Enter 1(if the person belongs to class 2) otherwise 0: 0\n",
      "Enter 1(if the person belongs to class 3) otherwise 0: 1\n",
      "Enter 1(if the person is female) otherwise 0: 0\n",
      "Enter 1(if the person is male) otherwise 0: 1\n",
      "Enter 1(if the person belongs to SibSp_0) otherwise 0: 1\n",
      "Enter 1(if the person belongs to SibSp_1) otherwise 0: 0\n",
      "Enter 1(if the person belongs to SibSp_2) otherwise 0: 0\n",
      "Enter 1(if the person belongs to SibSp_3) otherwise 0: 0\n",
      "Enter 1(if the person belongs to SibSp_4) otherwise 0: 0\n",
      "Enter 1(if the person belongs to SibSp_5) otherwise 0: 0\n",
      "Enter 1(if the person belongs to SibSp_8) otherwise 0: 0\n",
      "Enter 1(if the person belongs to Parch_0) otherwise 0: 1\n",
      "Enter 1(if the person belongs to Parch_1) otherwise 0: 0\n",
      "Enter 1(if the person belongs to Parch_2) otherwise 0: 0\n",
      "Enter 1(if the person belongs to Parch_3) otherwise 0: 0\n",
      "Enter 1(if the person belongs to Parch_4) otherwise 0: 0\n",
      "Enter 1(if the person belongs to Parch_5) otherwise 0: 0\n",
      "Enter 1(if the person belongs to Parch_6) otherwise 0: 0\n",
      "Enter 1(if the person belongs to Embarked_C) otherwise 0: 0\n",
      "Enter 1(if the person belongs to Embarked_Q) otherwise 0: 1\n",
      "Enter 1(if the person belongs to Embarked_S) otherwise 0: 0\n"
     ]
    }
   ],
   "source": [
    "# Read the Query Data\n",
    "\n",
    "print(\"Enter the Person Details(in numerical)\")\n",
    "Age = float(input('Enter Age: '))\n",
    "Fare = float(input('Enter Fare: '))\n",
    "Pclass_1 = float(input('Enter 1(if the person belongs to class 1) otherwise 0: '))\n",
    "Pclass_2 = float(input('Enter 1(if the person belongs to class 2) otherwise 0: '))\n",
    "Pclass_3 = float(input('Enter 1(if the person belongs to class 3) otherwise 0: '))\n",
    "Sex_female = float(input('Enter 1(if the person is female) otherwise 0: '))\n",
    "Sex_male = float(input('Enter 1(if the person is male) otherwise 0: '))\n",
    "SibSp_0 = float(input('Enter 1(if the person belongs to SibSp_0) otherwise 0: '))\n",
    "SibSp_1 = float(input('Enter 1(if the person belongs to SibSp_1) otherwise 0: '))\n",
    "SibSp_2 = float(input('Enter 1(if the person belongs to SibSp_2) otherwise 0: '))\n",
    "SibSp_3 = float(input('Enter 1(if the person belongs to SibSp_3) otherwise 0: '))\n",
    "SibSp_4 = float(input('Enter 1(if the person belongs to SibSp_4) otherwise 0: '))\n",
    "SibSp_5 = float(input('Enter 1(if the person belongs to SibSp_5) otherwise 0: '))\n",
    "SibSp_8 = float(input('Enter 1(if the person belongs to SibSp_8) otherwise 0: '))\n",
    "Parch_0 = float(input('Enter 1(if the person belongs to Parch_0) otherwise 0: '))\n",
    "Parch_1 = float(input('Enter 1(if the person belongs to Parch_1) otherwise 0: '))\n",
    "Parch_2 = float(input('Enter 1(if the person belongs to Parch_2) otherwise 0: '))\n",
    "Parch_3 = float(input('Enter 1(if the person belongs to Parch_3) otherwise 0: '))\n",
    "Parch_4 = float(input('Enter 1(if the person belongs to Parch_4) otherwise 0: '))\n",
    "Parch_5 = float(input('Enter 1(if the person belongs to Parch_5) otherwise 0: '))\n",
    "Parch_6 = float(input('Enter 1(if the person belongs to Parch_6) otherwise 0: '))\n",
    "Embarked_C = float(input('Enter 1(if the person belongs to Embarked_C) otherwise 0: '))\n",
    "Embarked_Q = float(input('Enter 1(if the person belongs to Embarked_Q) otherwise 0: '))\n",
    "Embarked_S = float(input('Enter 1(if the person belongs to Embarked_S) otherwise 0: '))"
   ]
  },
  {
   "cell_type": "code",
   "execution_count": 4,
   "id": "429b2555",
   "metadata": {},
   "outputs": [],
   "source": [
    "query_point = np.array([Age, Fare, Pclass_1, Pclass_2, Pclass_3, Sex_female, Sex_male, SibSp_0, SibSp_1, SibSp_2, SibSp_3, SibSp_4, SibSp_5, SibSp_8, Parch_0, Parch_1, Parch_2, Parch_3, Parch_4, Parch_5, Parch_6, Embarked_C, Embarked_Q, Embarked_S])"
   ]
  },
  {
   "cell_type": "code",
   "execution_count": 5,
   "id": "07b24a83",
   "metadata": {},
   "outputs": [
    {
     "data": {
      "text/plain": [
       "array([32.  ,  7.75,  0.  ,  0.  ,  1.  ,  0.  ,  1.  ,  1.  ,  0.  ,\n",
       "        0.  ,  0.  ,  0.  ,  0.  ,  0.  ,  1.  ,  0.  ,  0.  ,  0.  ,\n",
       "        0.  ,  0.  ,  0.  ,  0.  ,  1.  ,  0.  ])"
      ]
     },
     "execution_count": 5,
     "metadata": {},
     "output_type": "execute_result"
    }
   ],
   "source": [
    "query_point"
   ]
  },
  {
   "cell_type": "code",
   "execution_count": 6,
   "id": "ccd2db8f",
   "metadata": {},
   "outputs": [
    {
     "data": {
      "text/plain": [
       "array([[32.  ,  7.75,  0.  ,  0.  ,  1.  ,  0.  ,  1.  ,  1.  ,  0.  ,\n",
       "         0.  ,  0.  ,  0.  ,  0.  ,  0.  ,  1.  ,  0.  ,  0.  ,  0.  ,\n",
       "         0.  ,  0.  ,  0.  ,  0.  ,  1.  ,  0.  ]])"
      ]
     },
     "execution_count": 6,
     "metadata": {},
     "output_type": "execute_result"
    }
   ],
   "source": [
    "query_point = query_point.reshape(1, -1)\n",
    "\n",
    "query_point"
   ]
  },
  {
   "cell_type": "code",
   "execution_count": 7,
   "id": "bcba13b1",
   "metadata": {},
   "outputs": [
    {
     "name": "stderr",
     "output_type": "stream",
     "text": [
      "C:\\Users\\user\\anaconda3\\lib\\site-packages\\sklearn\\base.py:450: UserWarning: X does not have valid feature names, but StandardScaler was fitted with feature names\n",
      "  warnings.warn(\n"
     ]
    },
    {
     "data": {
      "text/plain": [
       "array([[ 0.16520151, -0.48668949, -0.56813051, -0.51027185,  0.90562878,\n",
       "        -0.72705166,  0.72705166,  0.67713757, -0.54505723, -0.18883568,\n",
       "        -0.12327842, -0.14088055, -0.07761505, -0.1029078 ,  0.56351951,\n",
       "        -0.38183452, -0.32551538, -0.08684168, -0.05479966, -0.07761505,\n",
       "        -0.03872015, -0.45841567,  3.1832897 , -1.67196129]])"
      ]
     },
     "execution_count": 7,
     "metadata": {},
     "output_type": "execute_result"
    }
   ],
   "source": [
    "query_point_transformed = scaler.transform(query_point)\n",
    "\n",
    "query_point_transformed"
   ]
  },
  {
   "cell_type": "code",
   "execution_count": 8,
   "id": "8cc1a0bb",
   "metadata": {},
   "outputs": [
    {
     "name": "stderr",
     "output_type": "stream",
     "text": [
      "C:\\Users\\user\\anaconda3\\lib\\site-packages\\sklearn\\base.py:450: UserWarning: X does not have valid feature names, but KNeighborsClassifier was fitted with feature names\n",
      "  warnings.warn(\n"
     ]
    },
    {
     "data": {
      "text/plain": [
       "array([0], dtype=int64)"
      ]
     },
     "execution_count": 8,
     "metadata": {},
     "output_type": "execute_result"
    }
   ],
   "source": [
    "knn_classifier.predict(query_point_transformed)"
   ]
  },
  {
   "cell_type": "code",
   "execution_count": 9,
   "id": "a3ad3840",
   "metadata": {},
   "outputs": [
    {
     "name": "stderr",
     "output_type": "stream",
     "text": [
      "C:\\Users\\user\\anaconda3\\lib\\site-packages\\sklearn\\base.py:450: UserWarning: X does not have valid feature names, but LogisticRegression was fitted with feature names\n",
      "  warnings.warn(\n"
     ]
    },
    {
     "data": {
      "text/plain": [
       "array([0], dtype=int64)"
      ]
     },
     "execution_count": 9,
     "metadata": {},
     "output_type": "execute_result"
    }
   ],
   "source": [
    "lr_classifier.predict(query_point_transformed)"
   ]
  },
  {
   "cell_type": "code",
   "execution_count": 10,
   "id": "1154e832",
   "metadata": {},
   "outputs": [
    {
     "name": "stderr",
     "output_type": "stream",
     "text": [
      "C:\\Users\\user\\anaconda3\\lib\\site-packages\\sklearn\\base.py:450: UserWarning: X does not have valid feature names, but GaussianNB was fitted with feature names\n",
      "  warnings.warn(\n"
     ]
    },
    {
     "data": {
      "text/plain": [
       "array([1], dtype=int64)"
      ]
     },
     "execution_count": 10,
     "metadata": {},
     "output_type": "execute_result"
    }
   ],
   "source": [
    "nb_classifier.predict(query_point_transformed)"
   ]
  },
  {
   "cell_type": "code",
   "execution_count": 11,
   "id": "6f386f7b",
   "metadata": {},
   "outputs": [
    {
     "name": "stderr",
     "output_type": "stream",
     "text": [
      "C:\\Users\\user\\anaconda3\\lib\\site-packages\\sklearn\\base.py:450: UserWarning: X does not have valid feature names, but DecisionTreeClassifier was fitted with feature names\n",
      "  warnings.warn(\n"
     ]
    },
    {
     "data": {
      "text/plain": [
       "array([0], dtype=int64)"
      ]
     },
     "execution_count": 11,
     "metadata": {},
     "output_type": "execute_result"
    }
   ],
   "source": [
    "dt_classifier.predict(query_point_transformed)"
   ]
  },
  {
   "cell_type": "code",
   "execution_count": 12,
   "id": "556c9a35",
   "metadata": {},
   "outputs": [
    {
     "name": "stderr",
     "output_type": "stream",
     "text": [
      "C:\\Users\\user\\anaconda3\\lib\\site-packages\\sklearn\\base.py:450: UserWarning: X does not have valid feature names, but SVC was fitted with feature names\n",
      "  warnings.warn(\n"
     ]
    },
    {
     "data": {
      "text/plain": [
       "array([0], dtype=int64)"
      ]
     },
     "execution_count": 12,
     "metadata": {},
     "output_type": "execute_result"
    }
   ],
   "source": [
    "sv_classifier.predict(query_point_transformed)"
   ]
  },
  {
   "cell_type": "markdown",
   "id": "60c50693",
   "metadata": {},
   "source": [
    "### Production Ready Code"
   ]
  },
  {
   "cell_type": "code",
   "execution_count": 13,
   "id": "6aa59686",
   "metadata": {},
   "outputs": [
    {
     "name": "stdout",
     "output_type": "stream",
     "text": [
      "Enter the Person Details(in numerical)\n",
      "Enter Age: 32\n",
      "Enter Fare: 7.75\n",
      "Enter 1(if the person belongs to class 1) otherwise 0: 0\n",
      "Enter 1(if the person belongs to class 2) otherwise 0: 0\n",
      "Enter 1(if the person belongs to class 3) otherwise 0: 1\n",
      "Enter 1(if the person is female) otherwise 0: 0\n",
      "Enter 1(if the person is male) otherwise 0: 1\n",
      "Enter 1(if the person belongs to SibSp_0) otherwise 0: 1\n",
      "Enter 1(if the person belongs to SibSp_1) otherwise 0: 0\n",
      "Enter 1(if the person belongs to SibSp_2) otherwise 0: 0\n",
      "Enter 1(if the person belongs to SibSp_3) otherwise 0: 0\n",
      "Enter 1(if the person belongs to SibSp_4) otherwise 0: 0\n",
      "Enter 1(if the person belongs to SibSp_5) otherwise 0: 0\n",
      "Enter 1(if the person belongs to SibSp_8) otherwise 0: 0\n",
      "Enter 1(if the person belongs to Parch_0) otherwise 0: 1\n",
      "Enter 1(if the person belongs to Parch_1) otherwise 0: 0\n",
      "Enter 1(if the person belongs to Parch_2) otherwise 0: 0\n",
      "Enter 1(if the person belongs to Parch_3) otherwise 0: 0\n",
      "Enter 1(if the person belongs to Parch_4) otherwise 0: 0\n",
      "Enter 1(if the person belongs to Parch_5) otherwise 0: 0\n",
      "Enter 1(if the person belongs to Parch_6) otherwise 0: 0\n",
      "Enter 1(if the person belongs to Embarked_C) otherwise 0: 0\n",
      "Enter 1(if the person belongs to Embarked_Q) otherwise 0: 1\n",
      "Enter 1(if the person belongs to Embarked_S) otherwise 0: 0\n"
     ]
    },
    {
     "name": "stderr",
     "output_type": "stream",
     "text": [
      "C:\\Users\\user\\anaconda3\\lib\\site-packages\\sklearn\\base.py:450: UserWarning: X does not have valid feature names, but StandardScaler was fitted with feature names\n",
      "  warnings.warn(\n",
      "C:\\Users\\user\\anaconda3\\lib\\site-packages\\sklearn\\base.py:450: UserWarning: X does not have valid feature names, but LogisticRegression was fitted with feature names\n",
      "  warnings.warn(\n"
     ]
    },
    {
     "data": {
      "text/plain": [
       "array([0], dtype=int64)"
      ]
     },
     "execution_count": 13,
     "metadata": {},
     "output_type": "execute_result"
    }
   ],
   "source": [
    "# Read the Query Data\n",
    "\n",
    "print(\"Enter the Person Details(in numerical)\")\n",
    "Age = float(input('Enter Age: '))\n",
    "Fare = float(input('Enter Fare: '))\n",
    "Pclass_1 = float(input('Enter 1(if the person belongs to class 1) otherwise 0: '))\n",
    "Pclass_2 = float(input('Enter 1(if the person belongs to class 2) otherwise 0: '))\n",
    "Pclass_3 = float(input('Enter 1(if the person belongs to class 3) otherwise 0: '))\n",
    "Sex_female = float(input('Enter 1(if the person is female) otherwise 0: '))\n",
    "Sex_male = float(input('Enter 1(if the person is male) otherwise 0: '))\n",
    "SibSp_0 = float(input('Enter 1(if the person belongs to SibSp_0) otherwise 0: '))\n",
    "SibSp_1 = float(input('Enter 1(if the person belongs to SibSp_1) otherwise 0: '))\n",
    "SibSp_2 = float(input('Enter 1(if the person belongs to SibSp_2) otherwise 0: '))\n",
    "SibSp_3 = float(input('Enter 1(if the person belongs to SibSp_3) otherwise 0: '))\n",
    "SibSp_4 = float(input('Enter 1(if the person belongs to SibSp_4) otherwise 0: '))\n",
    "SibSp_5 = float(input('Enter 1(if the person belongs to SibSp_5) otherwise 0: '))\n",
    "SibSp_8 = float(input('Enter 1(if the person belongs to SibSp_8) otherwise 0: '))\n",
    "Parch_0 = float(input('Enter 1(if the person belongs to Parch_0) otherwise 0: '))\n",
    "Parch_1 = float(input('Enter 1(if the person belongs to Parch_1) otherwise 0: '))\n",
    "Parch_2 = float(input('Enter 1(if the person belongs to Parch_2) otherwise 0: '))\n",
    "Parch_3 = float(input('Enter 1(if the person belongs to Parch_3) otherwise 0: '))\n",
    "Parch_4 = float(input('Enter 1(if the person belongs to Parch_4) otherwise 0: '))\n",
    "Parch_5 = float(input('Enter 1(if the person belongs to Parch_5) otherwise 0: '))\n",
    "Parch_6 = float(input('Enter 1(if the person belongs to Parch_6) otherwise 0: '))\n",
    "Embarked_C = float(input('Enter 1(if the person belongs to Embarked_C) otherwise 0: '))\n",
    "Embarked_Q = float(input('Enter 1(if the person belongs to Embarked_Q) otherwise 0: '))\n",
    "Embarked_S = float(input('Enter 1(if the person belongs to Embarked_S) otherwise 0: '))\n",
    "\n",
    "query_point = np.array([Age, Fare, Pclass_1, Pclass_2, Pclass_3, Sex_female, Sex_male, SibSp_0, SibSp_1, SibSp_2, SibSp_3, SibSp_4, SibSp_5, SibSp_8, Parch_0, Parch_1, Parch_2, Parch_3, Parch_4, Parch_5, Parch_6, Embarked_C, Embarked_Q, Embarked_S]).reshape(1, -1)\n",
    "query_point_transformed = scaler.transform(query_point)\n",
    "lr_classifier.predict(query_point_transformed)"
   ]
  },
  {
   "cell_type": "code",
   "execution_count": null,
   "id": "71f9cf36",
   "metadata": {},
   "outputs": [],
   "source": []
  }
 ],
 "metadata": {
  "kernelspec": {
   "display_name": "Python 3 (ipykernel)",
   "language": "python",
   "name": "python3"
  },
  "language_info": {
   "codemirror_mode": {
    "name": "ipython",
    "version": 3
   },
   "file_extension": ".py",
   "mimetype": "text/x-python",
   "name": "python",
   "nbconvert_exporter": "python",
   "pygments_lexer": "ipython3",
   "version": "3.9.7"
  }
 },
 "nbformat": 4,
 "nbformat_minor": 5
}
